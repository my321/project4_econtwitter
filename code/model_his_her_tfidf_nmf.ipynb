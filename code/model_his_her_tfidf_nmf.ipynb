{
 "cells": [
  {
   "cell_type": "code",
   "execution_count": 1,
   "metadata": {},
   "outputs": [],
   "source": [
    "import pandas as pd \n",
    "import re\n",
    "import json \n",
    "from nltk.tokenize import word_tokenize\n",
    "from sklearn.feature_extraction.text import TfidfVectorizer\n",
    "from sklearn.feature_extraction.text import CountVectorizer \n",
    "from sklearn.decomposition import TruncatedSVD\n",
    "from sklearn.decomposition import NMF\n",
    "from sklearn.metrics.pairwise import cosine_similarity\n",
    "from collections import Counter\n",
    "from wordcloud import WordCloud, STOPWORDS\n",
    "import matplotlib.pyplot as plt\n"
   ]
  },
  {
   "cell_type": "markdown",
   "metadata": {},
   "source": [
    "##### After separating tweets out as male and female tweets, try to find topic"
   ]
  },
  {
   "cell_type": "code",
   "execution_count": 2,
   "metadata": {},
   "outputs": [],
   "source": [
    "with open('her_list.txt', 'r') as filename: \n",
    "    her_list=json.load(filename)"
   ]
  },
  {
   "cell_type": "code",
   "execution_count": 3,
   "metadata": {},
   "outputs": [],
   "source": [
    "with open('his_list.txt','r') as filename: \n",
    "    his_list=json.load(filename)"
   ]
  },
  {
   "cell_type": "code",
   "execution_count": 89,
   "metadata": {},
   "outputs": [],
   "source": [
    "cv_tfidf = TfidfVectorizer(stop_words='english')"
   ]
  },
  {
   "cell_type": "code",
   "execution_count": 90,
   "metadata": {},
   "outputs": [],
   "source": [
    "X_tfidf = cv_tfidf.fit_transform(her_list)"
   ]
  },
  {
   "cell_type": "code",
   "execution_count": 91,
   "metadata": {},
   "outputs": [],
   "source": [
    "nmf_model = NMF(3)\n",
    "topic_matrix = nmf_model.fit_transform(X_tfidf)"
   ]
  },
  {
   "cell_type": "code",
   "execution_count": 92,
   "metadata": {},
   "outputs": [],
   "source": [
    "def display_topics(model, feature_names, no_top_words, topic_names=None):\n",
    "    for ix, topic in enumerate(model.components_):\n",
    "        if not topic_names or not topic_names[ix]:\n",
    "            print(\"\\nTopic \", ix)\n",
    "        else:\n",
    "            print(\"\\nTopic: '\",topic_names[ix],\"'\")\n",
    "        print(\", \".join([feature_names[i]\n",
    "                        for i in topic.argsort()[:-no_top_words - 1:-1]]))"
   ]
  },
  {
   "cell_type": "code",
   "execution_count": 94,
   "metadata": {},
   "outputs": [
    {
     "name": "stdout",
     "output_type": "stream",
     "text": [
      "\n",
      "Topic  0\n",
      "women, men, economics, gender, economists, covid, labor, jobs, economist, market, black, held, impact, work, macro, especially, pandemic, participation, married, womens, look, important, children, force, economy\n",
      "\n",
      "Topic  1\n",
      "jodiecongirl, prasoonpratham, bad, tweet, imbernomics, mattkahn, actually, laugh, liberty, thought, jaminspeer, board, jenniferdoleac, math, exposure, link, rich, fair, nicduquette, ask, mikeshor, probably, chrisweiss_, sisselfreports, witchcraft\n",
      "\n",
      "Topic  2\n",
      "work, wife, daughter, woman, good, great, new, got, said, day, years, year, shes, girl, old, womens, read, today, female, research, love, school, big, paper, ago\n"
     ]
    }
   ],
   "source": [
    "display_topics(nmf_model, cv_tfidf.get_feature_names(), 25)"
   ]
  },
  {
   "cell_type": "code",
   "execution_count": 25,
   "metadata": {},
   "outputs": [
    {
     "data": {
      "text/plain": [
       "array([0.00180272, 0.00306906])"
      ]
     },
     "execution_count": 25,
     "metadata": {},
     "output_type": "execute_result"
    }
   ],
   "source": [
    "lsa = TruncatedSVD(2)\n",
    "doc_topic = lsa.fit_transform(X_tfidf)\n",
    "lsa.explained_variance_ratio_"
   ]
  },
  {
   "cell_type": "code",
   "execution_count": 26,
   "metadata": {},
   "outputs": [
    {
     "name": "stdout",
     "output_type": "stream",
     "text": [
      "\n",
      "Topic  0\n",
      "women, work, jodiecongirl, economics, men, new, woman, great, covid, womens, wife, good, year, got, gender, day, female, daughter, research, said\n",
      "\n",
      "Topic  1\n",
      "jodiecongirl, wife, day, tweet, prasoonpratham, bad, daughter, got, actually, said, imbernomics, thought, mattkahn, good, laugh, ive, liberty, jaminspeer, probably, pretty\n"
     ]
    }
   ],
   "source": [
    "display_topics(lsa, cv_tfidf.get_feature_names(), 20)"
   ]
  },
  {
   "cell_type": "code",
   "execution_count": 27,
   "metadata": {},
   "outputs": [
    {
     "name": "stdout",
     "output_type": "stream",
     "text": [
      "dancassino ithat when psychologists ask women to choose between men who are creative but poor and uncreative but rich many women will prefer creative and poor  especially for short term relationships\n",
      "societies with tales portraying men as dominant and women as submissive tend to relegate their women to subordinate positions in their communities both historically and today this iscool\n",
      "as we watch potapovawilliams your reminder that a study indicated women choke less often than men in tennis despite what you are seeing\n",
      "i have seen so many notfirstrate men misuse econometrics typically men are misusing this of course that might reflect we still  have enough women in economics\n",
      "lindseyadler thatgirlmareena as long as men comment on sports without knowing anything and that never stops women should never have to explain why they are sports fans\n",
      "not everyone can read this story but it as disturbing as this quote suggests women keep reporting harassment in sports it keeps happening and it increasingly seemsmost men in sports are awfulthat conclusion then the mento do something\n",
      "one thing we have learned about men who sexually harass women is that they see to tell other men about this behavior ever andthis should not be shocking so if you only talk to men you are neverto hear this\n",
      "mento read this  men being nice to you tells you nothing about how they treat women\n",
      "economiststowomen get less in society because women risk andor competition these stories essentially blame women for the outcomes we see for women odd economists blame men for these outcomes of course economists also tend to be men\n",
      "a reminder to men silence is possible  you  have to correct women teasingly or not\n",
      "so we are halftime of a womens basketball game on fs two men doing the halftime show and they are talking mens college basketball they notwomens basketball\n",
      "if your not asking men a question  ask women that question\n",
      "gay women play sports  weto normalize gay men playing sports\n",
      "chloergibbs was comparing notes w some women econ friends this week were accumulating anecdotes about men whose papers w limited robustness checks etc go out for review at top journals while womens objectivelybetter more thorough papers are desk rejected \n",
      "docelovitz janevandis omgchronicles hologic temkins equitydocs womxnshc drjessigold resaelewiss men sometimes are subject to sexism although much less than women\n",
      "many women however were bothered when men wont accept their money   nearly two thirds of men  believed that women should contribute and nearly half of men  said they would stop dating a woman who never pays  \n",
      "ylvamoberg victoriakvernon immigrant men married to immigrant women tend to have marriages following traditional gender roles depending on country of origin it is also different from immigrant men married to native women\n",
      "similarities between effect of covid on men and womens livelihoods in india similar to that effect in the us and italy\n",
      "tweepsmap tells me  of my followers are women  are men so many of my followers are economists what do you expect and the rest are businesses\n",
      "women authored only  of the articles in the the world in   bagehot banyan bartleby bello charlemagnelexington are all men i wonder if  theeconomist still has ato go to achieve gender equality in its own workplace aeacswep econtwitter\n",
      "lwsamson iyouto separate out the women out of workforce for family caring reasons but thisshow for instance that strong labor market last few years was bringing back the women but not the men in aggregate\n",
      "jillfilipovic i will keep saying that mento come get this guy this is on men not women to fix\n",
      "i guess it took assa to remind me how mad i can get at a white manel discussing what theycould be driving different labor market effects for men and women\n",
      "retirement literacy among women and men is woefully low survey  thinkadvisor   gender\n",
      "something ive not seen or read much covid_  death rates in men seem significantly higher than women\n",
      "hombres en mxico quien apoyar el derecho a decidir de las mujeres donen dinero a fondomariamx   men in the us do youto support theto abortion of women donate money to ppfa\n",
      "it is fine if your book isdiscrimination of women economists in the us  but if your book is discrimination of women it may turn out that the much more salient cleavage is between women elsewhere and men and even women elsewhere and women in the us\n",
      " a gender gap in selfpromotion on stem tasks women selfpromote less than men on verbal tasks it disappears but  flip juddkesslerc exley show this is about more than confidence or incentives solution end self evaluation takeaways from changebcfg seminar\n",
      "in this paper we analyze how a labordemand shock that is biased towards men affects the labor market outcomes of women using large oil field discoveries in the early th century us as a natural experiment\n",
      "marcgoldwein ernietedeschi how do men vs women payrolls look from ces i thought women saw a larger overall decline\n",
      "n matching by race rows white men black men columns white women black women recently married  yo source acs  psid \n",
      "check the interactive database   for some interesting results men are more boring than women\n",
      "i agree that this is a nice initiative weird that theywe welcome participation by both men and women duh\n",
      "a shecession but this months change different womens jobs fell  million jobs over year mens by  m a shecession  but this month jobs held by women increased k over the month and those held by men fell k  keep an eye on it one month noisy\n",
      "clarification applying industryspecific job change rates to nov employment levels by industrygenderignoring any gender differences in loss rates within industry the total implied job change for women is k and for men is k very close to the observed levels\n",
      "women lost k jobs last month while men gained k per bls_gov  gender differences in loss rates in industry figure cant explain it  instead industry job loss rates strongly correlate r wwomens job share  caveat month estimates are noisy esp for subgroups\n",
      "former economic officials leaders of the economics profession in the academy top policy wonks leaders of progressivetanks mostly white men some white women not a single person of color not a single person outside elite circles not a single unemployed person\n",
      "larry summers has a looooong history ofasking questions of dubious character   outrageous one maybe womens iq is lower than men and  why there arent more women scientists my reply\n",
      "ejmr so precious  you anonymously harass and disparage economists often women men of color and lgbtq by name on a public website but now this\n",
      "comparing across fields we see that the gender disparity in the number of questions is driven by the macro programs which exhibit a very large gender gap where women are asked  more questions than men during an nber talk\n",
      "trump call biden concede resign and go to capitol tell them to go home now no apology could ever come close to enough for the men and women who risked and lost their lives to defend our democracy\n",
      "the_torffasian women and men are somewhat more likely to pursue economics in us universities than the overall asian student population however it was pointed out to me that relative to world population asians are massively underrepresented at top econ programs\n",
      "if ya havent noticed these early career scholars are mix of women and men and international and us programs so much exciting macro\n",
      "translation fields with power attractwhopower they then prey onwith less power basically anyone notthem women men of color lgbtq non elite background etc that drives thoseaway ps causality runs from harassment to exclusion\n",
      "direct payments this spring cost  billion   went to about  of americans women men and children do it  money will be very popular and mean so much for families thisof year ps business owners wouldpeople to do holiday shopping too\n",
      "we study whether the perceived genderbias of strategic interactions affects the strategic sophistication of men and women  this is important because success in life interactions rests on strategic sophistication  we study this in competitive games where a prize is at stake\n",
      "the key thing to understand here is that there is structural sexism in how these activities are coded things men do are leisure things women do are personal care cc eortizospina\n",
      "so if you take the sum of market laborcare of household and nonhouseholdsleep and chores you get  minutesday of sleeplabor for men and  minutesday of sleeplabor for women\n",
      "two quick things this  quite match what i get in atus i get  minutes men  women   but more to the point this is the wrongto measure leisureits literally being measured here as minutes peoplethey spend on leisure\n",
      "some lfs tabs  mapped out the aggregate hours worked by men and women indexed to january    when i start dealing with subsamplesnever confident in what do with seasonality and longterm trends so this is not adjusted\n",
      "i always find these discrepancies in reporting interesting  even when we condition on wfh during covid men report a more equal division of parental tasks than women do\n",
      "eduardsuari kvseconomen esbtweets more bald men than women\n",
      "there is a small number ofdominated by men who how i communicate ironically s the feeling is mutual ive learned that with suchwomenme cant win i am confident i am opinionated i am me deal with it\n",
      "remarkably as of january  men and women have seen exactly the same magnitude cumulative decline in overall employmenttopopulation ratios since last february pp\n",
      "leah_boustan dougwebberecon ps  of men and  of women satisfy the bmi criterion\n",
      "us capitalisms failures to prepare for or contain covid hurt us women more than men in terms of careers family incomeshousehold stresses  these social costs of system failures cut deepneed corrective action now  wecandobetterthancapitalism\n",
      "women carry an increasingly heavier load than men in providing childcare and educational support to their children during this covid crisis even while still working\n",
      "if men get their feelings hurt by a womans success i am in favor of them getting hurt everyday of their lives\n"
     ]
    }
   ],
   "source": [
    "for tweet in her_list: \n",
    "    if ' men ' in tweet: \n",
    "        print(tweet)"
   ]
  },
  {
   "cell_type": "code",
   "execution_count": 96,
   "metadata": {},
   "outputs": [],
   "source": [
    "X_tfidf_2 = cv_tfidf.fit_transform(his_list)"
   ]
  },
  {
   "cell_type": "code",
   "execution_count": 97,
   "metadata": {},
   "outputs": [],
   "source": [
    "nmf_model_2 = NMF(3)\n",
    "topic_matrix_2 = nmf_model_2.fit_transform(X_tfidf_2)"
   ]
  },
  {
   "cell_type": "code",
   "execution_count": 98,
   "metadata": {},
   "outputs": [
    {
     "name": "stdout",
     "output_type": "stream",
     "text": [
      "\n",
      "Topic  0\n",
      "trump, men, said, good, president, work, great, years, white, new, got, read, economics, year, day, says, biden, covid, election, point, book, thing, paper, today, women\n",
      "\n",
      "Topic  1\n",
      "man, oh, boy, andrew___baker, good, thanks, old, life, sorry, young, thankyou, love, year, dclingi, got, heart, sucks, thou, wow, work, wait, world, hate, dangerous, bad\n",
      "\n",
      "Topic  2\n",
      "hes, andrew___baker, talking, saying, got, best, wrong, doing, thing, point, sure, guy, ok, thinking, twitter, good, guess, kind, economist, gonna, gelbach, wearing, noahpinion, modeledbehavior, probably\n"
     ]
    }
   ],
   "source": [
    "display_topics(nmf_model_2, cv_tfidf.get_feature_names(), 25)"
   ]
  },
  {
   "cell_type": "code",
   "execution_count": 65,
   "metadata": {},
   "outputs": [
    {
     "data": {
      "text/plain": [
       "array([0.00109767, 0.0024452 , 0.00209238, 0.00189397])"
      ]
     },
     "execution_count": 65,
     "metadata": {},
     "output_type": "execute_result"
    }
   ],
   "source": [
    "lsa_2 = TruncatedSVD(4)\n",
    "doc_topic = lsa_2.fit_transform(X_tfidf_2)\n",
    "lsa.explained_variance_ratio_"
   ]
  },
  {
   "cell_type": "code",
   "execution_count": 66,
   "metadata": {},
   "outputs": [
    {
     "name": "stdout",
     "output_type": "stream",
     "text": [
      "\n",
      "Topic  0\n",
      "hes, man, trump, good, men, said, oh, great, got, work\n",
      "\n",
      "Topic  1\n",
      "man, oh, boy, thanks, old, life, thankyou, work, sorry, young\n",
      "\n",
      "Topic  2\n",
      "hes, man, andrew___baker, oh, talking, boy, gelbach, modeledbehavior, wearing, saying\n",
      "\n",
      "Topic  3\n",
      "men, women, white, work, good, economics, macro, great, read, labor\n"
     ]
    }
   ],
   "source": [
    "display_topics(lsa_2, cv_tfidf.get_feature_names(), 10)"
   ]
  },
  {
   "cell_type": "code",
   "execution_count": null,
   "metadata": {},
   "outputs": [],
   "source": []
  }
 ],
 "metadata": {
  "kernelspec": {
   "display_name": "Python 3",
   "language": "python",
   "name": "python3"
  },
  "language_info": {
   "codemirror_mode": {
    "name": "ipython",
    "version": 3
   },
   "file_extension": ".py",
   "mimetype": "text/x-python",
   "name": "python",
   "nbconvert_exporter": "python",
   "pygments_lexer": "ipython3",
   "version": "3.8.5"
  }
 },
 "nbformat": 4,
 "nbformat_minor": 5
}
